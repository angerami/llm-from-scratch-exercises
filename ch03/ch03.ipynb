{
 "cells": [
  {
   "cell_type": "markdown",
   "id": "2b77d27e",
   "metadata": {},
   "source": [
    "# Chapter 3: Attention Mechanisms"
   ]
  },
  {
   "cell_type": "code",
   "execution_count": 1,
   "id": "c81be0ff",
   "metadata": {},
   "outputs": [
    {
     "name": "stdout",
     "output_type": "stream",
     "text": [
      "torch version: 2.9.0\n"
     ]
    }
   ],
   "source": [
    "from importlib.metadata import version\n",
    "\n",
    "print(\"torch version:\", version(\"torch\"))"
   ]
  },
  {
   "cell_type": "markdown",
   "id": "91bef84f",
   "metadata": {},
   "source": [
    "`inputs`:  $x^{(i)}_{a}$\n",
    "\n",
    "$i$ is the sequence index and $a$ is the feature index"
   ]
  },
  {
   "cell_type": "code",
   "execution_count": 2,
   "id": "1928f650",
   "metadata": {},
   "outputs": [],
   "source": [
    "import torch\n",
    "\n",
    "inputs = torch.tensor(\n",
    "  [[0.43, 0.15, 0.89], # Your     (x^1)\n",
    "   [0.55, 0.87, 0.66], # journey  (x^2)\n",
    "   [0.57, 0.85, 0.64], # starts   (x^3)\n",
    "   [0.22, 0.58, 0.33], # with     (x^4)\n",
    "   [0.77, 0.25, 0.10], # one      (x^5)\n",
    "   [0.05, 0.80, 0.55]] # step     (x^6)\n",
    ")"
   ]
  },
  {
   "cell_type": "markdown",
   "id": "5335e370",
   "metadata": {},
   "source": [
    "`query`: $q_{a} = x^{(2)}_{a}$\n",
    "\n",
    "`attn_scores_2`: $\\omega_{2i} = \\sum_{a} q_{a} x^{(i)}_{a}$"
   ]
  },
  {
   "cell_type": "code",
   "execution_count": 3,
   "id": "4fbc8d5e",
   "metadata": {},
   "outputs": [
    {
     "name": "stdout",
     "output_type": "stream",
     "text": [
      "un-normalized scores: tensor([0.9544, 1.4950, 1.4754, 0.8434, 0.7070, 1.0865])\n",
      "normalized scores: tensor([0.1455, 0.2278, 0.2249, 0.1285, 0.1077, 0.1656])\n"
     ]
    }
   ],
   "source": [
    "query = inputs[1] #x(2) in book\n",
    "attn_scores_2 = torch.empty(inputs.shape[0])\n",
    "for i,x in enumerate(inputs):\n",
    "    attn_scores_2[i] = torch.dot(inputs[i],query)\n",
    "print('un-normalized scores:',attn_scores_2)\n",
    "\n",
    "attn_scores_2_tmp = attn_scores_2 / attn_scores_2.sum()\n",
    "print('normalized scores:', attn_scores_2_tmp)"
   ]
  },
  {
   "cell_type": "markdown",
   "id": "9b728aa1",
   "metadata": {},
   "source": [
    "Softmax implementation\n",
    "Input is `x` which is expected to be the attention scores $\\omega_{2i}$, here is we are using element 2 as the query, this is a 1-D vector in the sequence index.\n",
    "\n",
    "Attention weights `attn_weights_2` : $\\alpha_{2i} = \\text{softmax}(\\omega_{2i})$"
   ]
  },
  {
   "cell_type": "code",
   "execution_count": 4,
   "id": "65cf1b14",
   "metadata": {},
   "outputs": [
    {
     "name": "stdout",
     "output_type": "stream",
     "text": [
      "tensor([0.1385, 0.2379, 0.2333, 0.1240, 0.1082, 0.1581])\n"
     ]
    }
   ],
   "source": [
    "def softmax_naive(x):\n",
    "    return torch.exp(x) / torch.exp(x).sum()\n",
    "attn_weights_2= softmax_naive(attn_scores_2)\n",
    "print(attn_weights_2)"
   ]
  },
  {
   "cell_type": "code",
   "execution_count": 5,
   "id": "41779d2d",
   "metadata": {},
   "outputs": [
    {
     "name": "stdout",
     "output_type": "stream",
     "text": [
      "tensor([0.1385, 0.2379, 0.2333, 0.1240, 0.1082, 0.1581])\n"
     ]
    }
   ],
   "source": [
    "attn_weights_2 = torch.softmax(attn_scores_2, dim=0)\n",
    "print(attn_weights_2)"
   ]
  },
  {
   "cell_type": "markdown",
   "id": "bd721277",
   "metadata": {},
   "source": [
    "`context_vec_2`: $z^{(2)}_{a} = \\sum_i \\alpha_{2i} x^{(i)}_{a}$"
   ]
  },
  {
   "cell_type": "code",
   "execution_count": 6,
   "id": "efcdd552",
   "metadata": {},
   "outputs": [
    {
     "name": "stdout",
     "output_type": "stream",
     "text": [
      "tensor([0.4419, 0.6515, 0.5683])\n"
     ]
    }
   ],
   "source": [
    "context_vec_2 = torch.zeros(query.shape)\n",
    "for i,x_i in enumerate(inputs):\n",
    "    context_vec_2 += attn_weights_2[i]*x_i\n",
    "print(context_vec_2)"
   ]
  },
  {
   "cell_type": "markdown",
   "id": "4d81d802",
   "metadata": {},
   "source": [
    "### 3.3.2 Generalizing to all input sequence tokens\n",
    "`attn_scores` = $\\omega_{ij} = \\sum_{a} x^{(i)}_{a}x^{(j)}_{a}$, which is an $n \\times n$ tensor, where $n$ is the sequence index."
   ]
  },
  {
   "cell_type": "code",
   "execution_count": 7,
   "id": "476d6cfe",
   "metadata": {},
   "outputs": [
    {
     "name": "stdout",
     "output_type": "stream",
     "text": [
      "tensor([[0.9995, 0.9544, 0.9422, 0.4753, 0.4576, 0.6310],\n",
      "        [0.9544, 1.4950, 1.4754, 0.8434, 0.7070, 1.0865],\n",
      "        [0.9422, 1.4754, 1.4570, 0.8296, 0.7154, 1.0605],\n",
      "        [0.4753, 0.8434, 0.8296, 0.4937, 0.3474, 0.6565],\n",
      "        [0.4576, 0.7070, 0.7154, 0.3474, 0.6654, 0.2935],\n",
      "        [0.6310, 1.0865, 1.0605, 0.6565, 0.2935, 0.9450]])\n"
     ]
    }
   ],
   "source": [
    "n_seq = inputs.shape[0]\n",
    "attn_scores = torch.empty(n_seq,n_seq)\n",
    "\n",
    "for i,x_i in enumerate(inputs):\n",
    "    for j, x_j in enumerate(inputs):\n",
    "        attn_scores[i][j] = torch.dot(x_i,x_j)\n",
    "print(attn_scores)"
   ]
  },
  {
   "cell_type": "code",
   "execution_count": 8,
   "id": "fcbdbee9",
   "metadata": {},
   "outputs": [
    {
     "name": "stdout",
     "output_type": "stream",
     "text": [
      "tensor([[0.9995, 0.9544, 0.9422, 0.4753, 0.4576, 0.6310],\n",
      "        [0.9544, 1.4950, 1.4754, 0.8434, 0.7070, 1.0865],\n",
      "        [0.9422, 1.4754, 1.4570, 0.8296, 0.7154, 1.0605],\n",
      "        [0.4753, 0.8434, 0.8296, 0.4937, 0.3474, 0.6565],\n",
      "        [0.4576, 0.7070, 0.7154, 0.3474, 0.6654, 0.2935],\n",
      "        [0.6310, 1.0865, 1.0605, 0.6565, 0.2935, 0.9450]])\n"
     ]
    }
   ],
   "source": [
    "attn_scores = inputs @ inputs.T # 6x3 . (6x3)^T = 6x3 . 3x6\n",
    "print(attn_scores)"
   ]
  },
  {
   "cell_type": "markdown",
   "id": "86650640",
   "metadata": {},
   "source": [
    "`attn_weights` = $\\alpha_{ij} = \\text{softmax}_{j}(\\omega_{ij})$ "
   ]
  },
  {
   "cell_type": "code",
   "execution_count": 9,
   "id": "7693f4d9",
   "metadata": {},
   "outputs": [
    {
     "name": "stdout",
     "output_type": "stream",
     "text": [
      "tensor([[0.2098, 0.2006, 0.1981, 0.1242, 0.1220, 0.1452],\n",
      "        [0.1385, 0.2379, 0.2333, 0.1240, 0.1082, 0.1581],\n",
      "        [0.1390, 0.2369, 0.2326, 0.1242, 0.1108, 0.1565],\n",
      "        [0.1435, 0.2074, 0.2046, 0.1462, 0.1263, 0.1720],\n",
      "        [0.1526, 0.1958, 0.1975, 0.1367, 0.1879, 0.1295],\n",
      "        [0.1385, 0.2184, 0.2128, 0.1420, 0.0988, 0.1896]])\n"
     ]
    }
   ],
   "source": [
    "attn_weights = torch.softmax(attn_scores,dim=-1)\n",
    "print(attn_weights)"
   ]
  },
  {
   "cell_type": "code",
   "execution_count": 10,
   "id": "6fc82a74",
   "metadata": {},
   "outputs": [
    {
     "data": {
      "text/plain": [
       "tensor([1.0000, 1.0000, 1.0000, 1.0000, 1.0000, 1.0000])"
      ]
     },
     "execution_count": 10,
     "metadata": {},
     "output_type": "execute_result"
    }
   ],
   "source": [
    "## check that the rows sum to 1\n",
    "attn_weights.sum(dim=-1)"
   ]
  },
  {
   "cell_type": "markdown",
   "id": "b723b8e9",
   "metadata": {},
   "source": [
    "`all_context_vecs` = $z^{i}_{a} = \\sum_{j} x^{j}_{a} \\alpha_{ij}$\n",
    "\n",
    "(n,d) = (n,n) x (n,d)"
   ]
  },
  {
   "cell_type": "code",
   "execution_count": 11,
   "id": "312e10f2",
   "metadata": {},
   "outputs": [
    {
     "name": "stdout",
     "output_type": "stream",
     "text": [
      "tensor([[0.4421, 0.5931, 0.5790],\n",
      "        [0.4419, 0.6515, 0.5683],\n",
      "        [0.4431, 0.6496, 0.5671],\n",
      "        [0.4304, 0.6298, 0.5510],\n",
      "        [0.4671, 0.5910, 0.5266],\n",
      "        [0.4177, 0.6503, 0.5645]])\n"
     ]
    }
   ],
   "source": [
    "all_context_vecs = attn_weights @ inputs\n",
    "print(all_context_vecs)"
   ]
  },
  {
   "cell_type": "code",
   "execution_count": 12,
   "id": "6dd14ba4",
   "metadata": {},
   "outputs": [
    {
     "name": "stdout",
     "output_type": "stream",
     "text": [
      "tensor([0.4419, 0.6515, 0.5683])\n",
      "tensor([0.4419, 0.6515, 0.5683])\n"
     ]
    }
   ],
   "source": [
    "print(all_context_vecs[1]) #should match what we had before\n",
    "print(context_vec_2)"
   ]
  },
  {
   "cell_type": "markdown",
   "id": "ee616511",
   "metadata": {},
   "source": [
    "## 3.4 Trainable weights\n",
    "\n",
    "In this example the model dimension is `d_in` (3) but the Q,K,V vectors live in a\n",
    "different, lower dimensional space `d_out` (2). Presumably this makes it a little easier to generalize to multiple heads where `d_out` typically is `d_in / n_heads`"
   ]
  },
  {
   "cell_type": "code",
   "execution_count": 13,
   "id": "440e89d3",
   "metadata": {},
   "outputs": [
    {
     "name": "stdout",
     "output_type": "stream",
     "text": [
      "tensor([0.4306, 1.4551])\n"
     ]
    }
   ],
   "source": [
    "x_2 = inputs[1]\n",
    "d_in = inputs.shape[1]\n",
    "d_out = 2\n",
    "torch.manual_seed(123)\n",
    "W_q = torch.nn.Parameter(torch.rand(d_in, d_out), requires_grad=False)\n",
    "W_k = torch.nn.Parameter(torch.rand(d_in, d_out), requires_grad=False)\n",
    "W_v = torch.nn.Parameter(torch.rand(d_in, d_out), requires_grad=False)\n",
    "\n",
    "q_2 = x_2 @ W_q # (3) x (3x2) -> 2\n",
    "k_2 = x_2 @ W_k\n",
    "v_2 = x_2 @ W_v\n",
    "\n",
    "print(q_2)"
   ]
  },
  {
   "cell_type": "code",
   "execution_count": 14,
   "id": "163fd5c5",
   "metadata": {},
   "outputs": [],
   "source": [
    "keys = inputs @ W_k\n",
    "values = inputs @ W_v\n",
    "queries = inputs @ W_v"
   ]
  },
  {
   "cell_type": "code",
   "execution_count": 15,
   "id": "d5ce1a60",
   "metadata": {},
   "outputs": [
    {
     "name": "stdout",
     "output_type": "stream",
     "text": [
      "tensor(1.8524)\n"
     ]
    }
   ],
   "source": [
    "#omega_{22}\n",
    "keys_2 = keys[1]\n",
    "attn_score_22 = q_2.dot(k_2)\n",
    "print(attn_score_22)"
   ]
  },
  {
   "cell_type": "markdown",
   "id": "8eb02b68",
   "metadata": {},
   "source": [
    "`attn_scores_2` = $\\omega_{2j} = \\sum_{a} q^{(2)}_{a} k^{(j)}_{a}$"
   ]
  },
  {
   "cell_type": "code",
   "execution_count": 16,
   "id": "b7f57e72",
   "metadata": {},
   "outputs": [
    {
     "name": "stdout",
     "output_type": "stream",
     "text": [
      "omega_{2j}:  tensor([1.2705, 1.8524, 1.8111, 1.0795, 0.5577, 1.5440])\n"
     ]
    }
   ],
   "source": [
    "attn_scores_2 = q_2 @ keys.T\n",
    "print('omega_{2j}: ',attn_scores_2)"
   ]
  },
  {
   "cell_type": "markdown",
   "id": "72206e34",
   "metadata": {},
   "source": [
    "`attn_weights_2` = $\\alpha_{2j} = \\text{softmax}(\\omega_{2j}/\\sqrt{d_{out}},j)$"
   ]
  },
  {
   "cell_type": "code",
   "execution_count": 17,
   "id": "376dffe3",
   "metadata": {},
   "outputs": [
    {
     "name": "stdout",
     "output_type": "stream",
     "text": [
      "tensor([0.1500, 0.2264, 0.2199, 0.1311, 0.0906, 0.1820])\n"
     ]
    }
   ],
   "source": [
    "attn_weights_2 = torch.softmax(attn_scores_2/d_out**0.5, dim=-1)\n",
    "print(attn_weights_2)"
   ]
  },
  {
   "cell_type": "markdown",
   "id": "ce4f62fd",
   "metadata": {},
   "source": [
    "`context_vec_2` = $z^{(2)}_{a} = \\sum_{j}  \\alpha_{2j} v^{(j)}_{a}$"
   ]
  },
  {
   "cell_type": "code",
   "execution_count": 18,
   "id": "802806bc",
   "metadata": {},
   "outputs": [
    {
     "name": "stdout",
     "output_type": "stream",
     "text": [
      "tensor([0.3061, 0.8210])\n"
     ]
    }
   ],
   "source": [
    "context_vec_2 = attn_weights_2 @ values\n",
    "print(context_vec_2)"
   ]
  },
  {
   "cell_type": "markdown",
   "id": "ea0217d5",
   "metadata": {},
   "source": [
    "#### Self attention class\n",
    "`class SelfAttention_v1`\n",
    "\n",
    "Subclass `nn.Module`. Implement `__init__`, and `forward(self,x)`"
   ]
  },
  {
   "cell_type": "code",
   "execution_count": 19,
   "id": "e0601c82",
   "metadata": {},
   "outputs": [],
   "source": [
    "import torch.nn as nn\n",
    "\n",
    "class SelfAttention_v1(nn.Module):\n",
    "    def __init__(self, d_in, d_out):\n",
    "        super().__init__()\n",
    "        #define the weights\n",
    "        self.W_q = torch.nn.Parameter(torch.rand(d_in, d_out))\n",
    "        self.W_k = torch.nn.Parameter(torch.rand(d_in, d_out))\n",
    "        self.W_v = torch.nn.Parameter(torch.rand(d_in, d_out))\n",
    "\n",
    "    def forward(self, x): # x: shape(...,n,d_in)\n",
    "\n",
    "        #shape(...,n,d_in) x (d_in,d_out) -> shape(...,n,d_out)\n",
    "        queries = x @ self.W_q \n",
    "        keys = x @ self.W_k\n",
    "        values = x @ self.W_v\n",
    "        \n",
    "\n",
    "        #(n,d_out) x (n,d_out)^T -> shape(n,n)\n",
    "        omega = queries @ keys.T\n",
    "        alpha = torch.softmax(omega/d_out**0.5,dim=-1)\n",
    "        context_vec = alpha @ values\n",
    "        return context_vec"
   ]
  },
  {
   "cell_type": "code",
   "execution_count": 20,
   "id": "8a407b0c",
   "metadata": {},
   "outputs": [
    {
     "data": {
      "text/plain": [
       "tensor([[0.2996, 0.8053],\n",
       "        [0.3061, 0.8210],\n",
       "        [0.3058, 0.8203],\n",
       "        [0.2948, 0.7939],\n",
       "        [0.2927, 0.7891],\n",
       "        [0.2990, 0.8040]], grad_fn=<MmBackward0>)"
      ]
     },
     "execution_count": 20,
     "metadata": {},
     "output_type": "execute_result"
    }
   ],
   "source": [
    "#now test it\n",
    "torch.manual_seed(123)\n",
    "SA_v1 = SelfAttention_v1(d_in,d_out)\n",
    "SA_v1.forward(inputs)"
   ]
  },
  {
   "cell_type": "markdown",
   "id": "6a6b45d1",
   "metadata": {},
   "source": [
    "#### New self attention class using linear layers for holding parameters\n",
    "`class SelfAttention_v2`\n",
    "\n",
    "Subclass `nn.Module`. Implement `__init__`, and `forward(self,x)`"
   ]
  },
  {
   "cell_type": "code",
   "execution_count": 21,
   "id": "953e57ee",
   "metadata": {},
   "outputs": [
    {
     "data": {
      "text/plain": [
       "tensor([[-0.0739,  0.0713],\n",
       "        [-0.0748,  0.0703],\n",
       "        [-0.0749,  0.0702],\n",
       "        [-0.0760,  0.0685],\n",
       "        [-0.0763,  0.0679],\n",
       "        [-0.0754,  0.0693]], grad_fn=<MmBackward0>)"
      ]
     },
     "execution_count": 21,
     "metadata": {},
     "output_type": "execute_result"
    }
   ],
   "source": [
    "class SelfAttention_v2(nn.Module):\n",
    "    def __init__(self, d_in, d_out, qkv_bias=False):\n",
    "        super().__init__()\n",
    "        #define the weights\n",
    "        self.W_q = nn.Linear(d_in, d_out,bias=qkv_bias)\n",
    "        self.W_k = nn.Linear(d_in, d_out,bias=qkv_bias)\n",
    "        self.W_v = nn.Linear(d_in, d_out,bias=qkv_bias)\n",
    "\n",
    "    def forward(self, x): # x: shape(...,n,d_in)\n",
    "\n",
    "        #shape(...,n,d_in) x (d_in,d_out) -> shape(...,n,d_out)\n",
    "        queries = self.W_q(x) \n",
    "        keys = self.W_k(x)\n",
    "        values = self.W_v(x)\n",
    "        \n",
    "\n",
    "        #(n,d_out) x (n,d_out)^T -> shape(n,n)\n",
    "        omega = queries @ keys.T\n",
    "        alpha = torch.softmax(omega/d_out**0.5,dim=-1)\n",
    "        context_vec = alpha @ values\n",
    "        return context_vec\n",
    "    \n",
    "torch.manual_seed(789)\n",
    "SA_v2 = SelfAttention_v2(d_in,d_out)\n",
    "SA_v2.forward(inputs)"
   ]
  },
  {
   "cell_type": "markdown",
   "id": "342833e9",
   "metadata": {},
   "source": [
    "## 3.5 Causal attention and masking"
   ]
  },
  {
   "cell_type": "code",
   "execution_count": 22,
   "id": "e59e0b57",
   "metadata": {},
   "outputs": [
    {
     "name": "stdout",
     "output_type": "stream",
     "text": [
      "tensor([[0.1921, 0.1646, 0.1652, 0.1550, 0.1721, 0.1510],\n",
      "        [0.2041, 0.1659, 0.1662, 0.1496, 0.1665, 0.1477],\n",
      "        [0.2036, 0.1659, 0.1662, 0.1498, 0.1664, 0.1480],\n",
      "        [0.1869, 0.1667, 0.1668, 0.1571, 0.1661, 0.1564],\n",
      "        [0.1830, 0.1669, 0.1670, 0.1588, 0.1658, 0.1585],\n",
      "        [0.1935, 0.1663, 0.1666, 0.1542, 0.1666, 0.1529]],\n",
      "       grad_fn=<SoftmaxBackward0>)\n"
     ]
    }
   ],
   "source": [
    "#grabbing some of the attention weights to demonstrate masking\n",
    "queries = SA_v2.W_q(inputs)\n",
    "keys = SA_v2.W_k(inputs) \n",
    "attn_scores = queries @ keys.T\n",
    "\n",
    "attn_weights = torch.softmax(attn_scores / keys.shape[-1]**0.5, dim=-1)\n",
    "print(attn_weights)"
   ]
  },
  {
   "cell_type": "code",
   "execution_count": 23,
   "id": "2623c916",
   "metadata": {},
   "outputs": [
    {
     "name": "stdout",
     "output_type": "stream",
     "text": [
      "tensor([[1., 0., 0., 0., 0., 0.],\n",
      "        [1., 1., 0., 0., 0., 0.],\n",
      "        [1., 1., 1., 0., 0., 0.],\n",
      "        [1., 1., 1., 1., 0., 0.],\n",
      "        [1., 1., 1., 1., 1., 0.],\n",
      "        [1., 1., 1., 1., 1., 1.]])\n"
     ]
    }
   ],
   "source": [
    "context_length = attn_scores.shape[0]\n",
    "mask_simple = torch.tril(torch.ones(context_length,context_length))\n",
    "print(mask_simple)"
   ]
  },
  {
   "cell_type": "code",
   "execution_count": 24,
   "id": "3a6a4a2d",
   "metadata": {},
   "outputs": [
    {
     "name": "stdout",
     "output_type": "stream",
     "text": [
      "tensor([[0.1921, 0.0000, 0.0000, 0.0000, 0.0000, 0.0000],\n",
      "        [0.2041, 0.1659, 0.0000, 0.0000, 0.0000, 0.0000],\n",
      "        [0.2036, 0.1659, 0.1662, 0.0000, 0.0000, 0.0000],\n",
      "        [0.1869, 0.1667, 0.1668, 0.1571, 0.0000, 0.0000],\n",
      "        [0.1830, 0.1669, 0.1670, 0.1588, 0.1658, 0.0000],\n",
      "        [0.1935, 0.1663, 0.1666, 0.1542, 0.1666, 0.1529]],\n",
      "       grad_fn=<MulBackward0>)\n"
     ]
    }
   ],
   "source": [
    "masked_simple = attn_weights*mask_simple\n",
    "print(masked_simple) #same as above but with zeros above diagonal"
   ]
  },
  {
   "cell_type": "code",
   "execution_count": 25,
   "id": "bf58b7b0",
   "metadata": {},
   "outputs": [
    {
     "name": "stdout",
     "output_type": "stream",
     "text": [
      "tensor([[1.0000, 0.0000, 0.0000, 0.0000, 0.0000, 0.0000],\n",
      "        [0.5517, 0.4483, 0.0000, 0.0000, 0.0000, 0.0000],\n",
      "        [0.3800, 0.3097, 0.3103, 0.0000, 0.0000, 0.0000],\n",
      "        [0.2758, 0.2460, 0.2462, 0.2319, 0.0000, 0.0000],\n",
      "        [0.2175, 0.1983, 0.1984, 0.1888, 0.1971, 0.0000],\n",
      "        [0.1935, 0.1663, 0.1666, 0.1542, 0.1666, 0.1529]],\n",
      "       grad_fn=<DivBackward0>)\n"
     ]
    }
   ],
   "source": [
    "#this wrecks the normalization\n",
    "row_sums = masked_simple.sum(dim=-1,keepdim = True) #sums over columns for each row\n",
    "masked_simple_norm = masked_simple / row_sums # M_ij = A_ij / sum_k A_ik\n",
    "print(masked_simple_norm)"
   ]
  },
  {
   "cell_type": "markdown",
   "id": "9203955b",
   "metadata": {},
   "source": [
    "##### Note on `keepdim`\n",
    "\n",
    "If this is `keepdim = True` then `row_sums.shape` is (6,1)\n",
    "\n",
    "`masked_simple_norm = masked_simple / row_sums` broadcasts the denominator so it is (6,6) where each of the 6 columns is the same as the first so\n",
    "$$M_{ij} = A_{ij} / \\sum_{k} A_{ik}$$\n",
    "That is, the denominator does not depend on the column index $j$, it is the same for all columns meaning that when a given row of $M$ is summed over the columns the result is 1. `masked_simple_norm.sum(dim=-1)`:\n",
    "$$ \\sum_j M_{ij} = \\sum_{j} A_{ij} / \\sum_{k} A_{ik} = 1\\quad\\forall\\quad i$$\n",
    "\n",
    "\n",
    "If this is `keepdim =False` then `row_sums.shape` is (6,). The effect of broadcasting is different. The rules for broadcasting the division operation will align the first index of this tensor with the last index of the numerator.\n",
    "$$(6,6) / (6,) \\rightarrow (6,6) / (1,6) \\rightarrow (6,6) / (6,6)$$\n",
    "\n",
    "In this case the tensor in the denominator $\\sum_{k} A_{lk}$ the free index is matched to the index $j$ in the numerator:\n",
    "$$M_{ij} = A_{ij} / \\sum_{k} A_{jk}$$\n",
    "\n",
    "The denominator is now independent of the _row index_ $i$. Thus for each row the elements are divided by different column-dependent factors, but the division is the same for each row. \n",
    "For the normalization  `masked_simple_norm.sum(dim=-1)`:\n",
    "\n",
    "$$ \\sum_j M_{ij} = \\sum_{j} A_{ij} / \\sum_{k} A_{jk} \\neq 1\\quad\\forall\\quad i$$\n",
    "\n",
    "You *can't* fix this with `masked_simple_norm.sum(dim=0)` because the this version mixes up rows and columns via broadcasting.\n"
   ]
  },
  {
   "cell_type": "markdown",
   "id": "4e88cc26",
   "metadata": {},
   "source": [
    "#### Now do this avoiding the need for a final normalization by masking the attention _scores_ ($\\omega$) instead of the _weights_ ($\\alpha$), by noting that a weight of zero can be obtained by assigning the scores to $-\\infty$ \n",
    "$$ \\alpha_{ij} = 0 \\leftrightarrow \\omega_{ij} = -\\infty$$\n"
   ]
  },
  {
   "cell_type": "code",
   "execution_count": 26,
   "id": "7c9b305a",
   "metadata": {},
   "outputs": [
    {
     "name": "stdout",
     "output_type": "stream",
     "text": [
      "tensor([[0.2899,   -inf,   -inf,   -inf,   -inf,   -inf],\n",
      "        [0.4656, 0.1723,   -inf,   -inf,   -inf,   -inf],\n",
      "        [0.4594, 0.1703, 0.1731,   -inf,   -inf,   -inf],\n",
      "        [0.2642, 0.1024, 0.1036, 0.0186,   -inf,   -inf],\n",
      "        [0.2183, 0.0874, 0.0882, 0.0177, 0.0786,   -inf],\n",
      "        [0.3408, 0.1270, 0.1290, 0.0198, 0.1290, 0.0078]],\n",
      "       grad_fn=<MaskedFillBackward0>)\n",
      "new way\n",
      "\n",
      "tensor([[1.0000, 0.0000, 0.0000, 0.0000, 0.0000, 0.0000],\n",
      "        [0.5517, 0.4483, 0.0000, 0.0000, 0.0000, 0.0000],\n",
      "        [0.3800, 0.3097, 0.3103, 0.0000, 0.0000, 0.0000],\n",
      "        [0.2758, 0.2460, 0.2462, 0.2319, 0.0000, 0.0000],\n",
      "        [0.2175, 0.1983, 0.1984, 0.1888, 0.1971, 0.0000],\n",
      "        [0.1935, 0.1663, 0.1666, 0.1542, 0.1666, 0.1529]],\n",
      "       grad_fn=<SoftmaxBackward0>)\n",
      "old way\n",
      "\n",
      "tensor([[1.0000, 0.0000, 0.0000, 0.0000, 0.0000, 0.0000],\n",
      "        [0.5517, 0.4483, 0.0000, 0.0000, 0.0000, 0.0000],\n",
      "        [0.3800, 0.3097, 0.3103, 0.0000, 0.0000, 0.0000],\n",
      "        [0.2758, 0.2460, 0.2462, 0.2319, 0.0000, 0.0000],\n",
      "        [0.2175, 0.1983, 0.1984, 0.1888, 0.1971, 0.0000],\n",
      "        [0.1935, 0.1663, 0.1666, 0.1542, 0.1666, 0.1529]],\n",
      "       grad_fn=<DivBackward0>)\n"
     ]
    }
   ],
   "source": [
    "mask = torch.triu(torch.ones(context_length,context_length),diagonal=1)\n",
    "masked = attn_scores.masked_fill(mask.bool(),-torch.inf)\n",
    "print(masked)\n",
    "attn_weights = torch.softmax(masked/keys.shape[-1]**0.5,dim=-1)\n",
    "print('new way\\n')\n",
    "print(attn_weights)\n",
    "print('old way\\n')\n",
    "print(masked_simple_norm)"
   ]
  },
  {
   "cell_type": "markdown",
   "id": "a589d0a9",
   "metadata": {},
   "source": [
    "#### Adding dropout"
   ]
  },
  {
   "cell_type": "code",
   "execution_count": 27,
   "id": "0d033f3f",
   "metadata": {},
   "outputs": [
    {
     "name": "stdout",
     "output_type": "stream",
     "text": [
      "tensor([[2., 2., 0., 2., 2., 0.],\n",
      "        [0., 0., 0., 2., 0., 2.],\n",
      "        [2., 2., 2., 2., 0., 2.],\n",
      "        [0., 2., 2., 0., 0., 2.],\n",
      "        [0., 2., 0., 2., 0., 2.],\n",
      "        [0., 2., 2., 2., 2., 0.]])\n"
     ]
    }
   ],
   "source": [
    "#first explore pytorch dropout layer functionality\n",
    "torch.manual_seed(123)\n",
    "dropout = torch.nn.Dropout(0.5) #thats 50%\n",
    "example = torch.ones(6,6)\n",
    "print(dropout(example))"
   ]
  },
  {
   "cell_type": "code",
   "execution_count": 28,
   "id": "817ec9e1",
   "metadata": {},
   "outputs": [
    {
     "name": "stdout",
     "output_type": "stream",
     "text": [
      "tensor([[2.0000, 0.0000, 0.0000, 0.0000, 0.0000, 0.0000],\n",
      "        [0.0000, 0.0000, 0.0000, 0.0000, 0.0000, 0.0000],\n",
      "        [0.7599, 0.6194, 0.6206, 0.0000, 0.0000, 0.0000],\n",
      "        [0.0000, 0.4921, 0.4925, 0.0000, 0.0000, 0.0000],\n",
      "        [0.0000, 0.3966, 0.0000, 0.3775, 0.0000, 0.0000],\n",
      "        [0.0000, 0.3327, 0.3331, 0.3084, 0.3331, 0.0000]],\n",
      "       grad_fn=<MulBackward0>)\n"
     ]
    }
   ],
   "source": [
    "torch.manual_seed(123)\n",
    "print(dropout(attn_weights))"
   ]
  },
  {
   "cell_type": "markdown",
   "id": "ebb37f05",
   "metadata": {},
   "source": [
    "#### 3.5.3 Implementing causal attention including functionality for extra batch dimension"
   ]
  },
  {
   "cell_type": "code",
   "execution_count": 29,
   "id": "a33125fa",
   "metadata": {},
   "outputs": [
    {
     "name": "stdout",
     "output_type": "stream",
     "text": [
      "torch.Size([2, 6, 3])\n"
     ]
    }
   ],
   "source": [
    "#create a tensor with batch structure\n",
    "batch = torch.stack((inputs,inputs),dim=0) \n",
    "# we stacked two copies of input using index 0\n",
    "# thus batch.shape[0] should be 2\n",
    "print(batch.shape)"
   ]
  },
  {
   "cell_type": "code",
   "execution_count": 30,
   "id": "fd087abb",
   "metadata": {},
   "outputs": [],
   "source": [
    "class CausalAttention(nn.Module):\n",
    "    def __init__(self, d_in, d_out, context_length,\n",
    "                 dropout, qkv_bias=False):\n",
    "        super().__init__()\n",
    "         #define the weights\n",
    "        self.W_q = nn.Linear(d_in, d_out,bias=qkv_bias)\n",
    "        self.W_k = nn.Linear(d_in, d_out,bias=qkv_bias)\n",
    "        self.W_v = nn.Linear(d_in, d_out,bias=qkv_bias)\n",
    "        self.dropout = nn.Dropout(dropout)\n",
    "        self.score_mask = torch.triu(torch.ones(context_length,context_length),diagonal=1)\n",
    "    \n",
    "    #now x has shape (batch, seq, feature)\n",
    "    def forward(self, x):\n",
    "        query = self.W_q(x)\n",
    "        key = self.W_k(x)\n",
    "        value = self.W_v(x)\n",
    "\n",
    "        # want (batch,nseq, nseq) <- (batch,nseq,d_out) x (batch,d_out,nseq)\n",
    "        #need transpose to swap last two rows \n",
    "        omega = query @ key.transpose(-2,-1)\n",
    "        masked = omega.masked_fill(mask.bool(),-torch.inf)\n",
    "        alpha = self.dropout(torch.softmax(masked/d_out**0.5,dim=-1))\n",
    "        \n",
    "        #in value (batch,nseqj,d_out), alpha (batch,nseqi,nseqj)\n",
    "        # out (batch,nseq,d_out) \n",
    "        # keeping the order value.trasponse(-2,-1) @ alpha.transpose(-2,-1)\n",
    "        #does the right multiplication, but needs a final transpose(-2,-1) on the\n",
    "        #output to move d_out to the back.\n",
    "        #distributing this transpose over the matrix product just gives\n",
    "        context_vector = alpha @ value\n",
    "        return context_vector"
   ]
  },
  {
   "cell_type": "code",
   "execution_count": 31,
   "id": "59af1864",
   "metadata": {},
   "outputs": [
    {
     "name": "stdout",
     "output_type": "stream",
     "text": [
      "tensor([[[-0.4519,  0.2216],\n",
      "         [-0.5874,  0.0058],\n",
      "         [-0.6300, -0.0632],\n",
      "         [-0.5675, -0.0843],\n",
      "         [-0.5526, -0.0981],\n",
      "         [-0.5299, -0.1081]],\n",
      "\n",
      "        [[-0.4519,  0.2216],\n",
      "         [-0.5874,  0.0058],\n",
      "         [-0.6300, -0.0632],\n",
      "         [-0.5675, -0.0843],\n",
      "         [-0.5526, -0.0981],\n",
      "         [-0.5299, -0.1081]]], grad_fn=<UnsafeViewBackward0>)\n",
      "context_vecs.shape: torch.Size([2, 6, 2])\n"
     ]
    }
   ],
   "source": [
    "torch.manual_seed(123)\n",
    "\n",
    "context_length = batch.shape[1]\n",
    "ca = CausalAttention(d_in, d_out, context_length, 0)\n",
    "\n",
    "context_vecs = ca(batch)\n",
    "\n",
    "print(context_vecs)\n",
    "print(\"context_vecs.shape:\", context_vecs.shape)"
   ]
  },
  {
   "cell_type": "markdown",
   "id": "5081c172",
   "metadata": {},
   "source": [
    "## 3.6 Multiheaded attention!!"
   ]
  },
  {
   "cell_type": "code",
   "execution_count": 32,
   "id": "6a2bd806",
   "metadata": {},
   "outputs": [
    {
     "name": "stdout",
     "output_type": "stream",
     "text": [
      "tensor([[[-0.4519,  0.2216,  0.4772,  0.1063],\n",
      "         [-0.5874,  0.0058,  0.5891,  0.3257],\n",
      "         [-0.6300, -0.0632,  0.6202,  0.3860],\n",
      "         [-0.5675, -0.0843,  0.5478,  0.3589],\n",
      "         [-0.5526, -0.0981,  0.5321,  0.3428],\n",
      "         [-0.5299, -0.1081,  0.5077,  0.3493]],\n",
      "\n",
      "        [[-0.4519,  0.2216,  0.4772,  0.1063],\n",
      "         [-0.5874,  0.0058,  0.5891,  0.3257],\n",
      "         [-0.6300, -0.0632,  0.6202,  0.3860],\n",
      "         [-0.5675, -0.0843,  0.5478,  0.3589],\n",
      "         [-0.5526, -0.0981,  0.5321,  0.3428],\n",
      "         [-0.5299, -0.1081,  0.5077,  0.3493]]], grad_fn=<CatBackward0>)\n",
      "output shape:  torch.Size([2, 6, 4])\n"
     ]
    }
   ],
   "source": [
    "#first a loop version\n",
    "#wrapper class\n",
    "\n",
    "class MultiHeadAttentionWrapper(nn.Module):\n",
    "\n",
    "    def __init__(self, d_in, d_out, context_length, dropout, num_heads, qkv_bias=False):\n",
    "        super().__init__()\n",
    "        self.heads = nn.ModuleList(\n",
    "           [CausalAttention(d_in,d_out,context_length,dropout,qkv_bias)\n",
    "           for _ in range(num_heads)]\n",
    "        )\n",
    "\n",
    "    def forward(self,x):\n",
    "        return torch.cat([h(x) for h in self.heads],dim = -1)\n",
    "    \n",
    "torch.manual_seed(123)\n",
    "context_length = batch.shape[1]\n",
    "d_in, d_out, context_length, nheads = 3, 2, batch.shape[1], 2\n",
    "mha = MultiHeadAttentionWrapper(d_in,d_out,context_length,0.,nheads)\n",
    "context_vecs = mha(batch)\n",
    "print(context_vecs)\n",
    "print(\"output shape: \",context_vecs.shape)\n",
    "        "
   ]
  },
  {
   "cell_type": "code",
   "execution_count": 35,
   "id": "a08c8d1d",
   "metadata": {},
   "outputs": [
    {
     "name": "stdout",
     "output_type": "stream",
     "text": [
      "tensor([[[0.3190, 0.4858],\n",
      "         [0.2943, 0.3897],\n",
      "         [0.2856, 0.3593],\n",
      "         [0.2693, 0.3873],\n",
      "         [0.2639, 0.3928],\n",
      "         [0.2575, 0.4028]],\n",
      "\n",
      "        [[0.3190, 0.4858],\n",
      "         [0.2943, 0.3897],\n",
      "         [0.2856, 0.3593],\n",
      "         [0.2693, 0.3873],\n",
      "         [0.2639, 0.3928],\n",
      "         [0.2575, 0.4028]]], grad_fn=<ViewBackward0>)\n",
      "context_vecs.shape: torch.Size([2, 6, 2])\n"
     ]
    }
   ],
   "source": [
    "class MultiHeadAttention(nn.Module):\n",
    "    def __init__(self, d_in, d_out, context_length, dropout, num_heads, qkv_bias=False):\n",
    "        super().__init__()\n",
    "        assert d_out % num_heads == 0, \\\n",
    "            'd_out must be divisible by num_heads'\n",
    "\n",
    "        self.d_out = d_out\n",
    "        self.num_heads = num_heads\n",
    "        self.head_dim = d_out // num_heads\n",
    "\n",
    "        self.W_q = nn.Linear(d_in, d_out,bias=qkv_bias)\n",
    "        self.W_k = nn.Linear(d_in, d_out,bias=qkv_bias)\n",
    "        self.W_v = nn.Linear(d_in, d_out,bias=qkv_bias)\n",
    "        self.register_buffer('mask', torch.triu(torch.ones(context_length,context_length),diagonal=1))\n",
    "        self.dropout = nn.Dropout(dropout)\n",
    "        self.out_proj = nn.Linear(d_out, d_out)\n",
    "\n",
    "\n",
    "    def forward(self,x):\n",
    "        b, nseq, d_in = x.shape\n",
    "        query = self.W_q(x)\n",
    "        key = self.W_k(x)\n",
    "        value = self.W_v(x)\n",
    "\n",
    "        #now split along n_heads\n",
    "        query = query.view(b,nseq,self.num_heads,self.head_dim)\n",
    "        key = key.view(b,nseq,self.num_heads,self.head_dim)\n",
    "        value = value.view(b,nseq,self.num_heads,self.head_dim)\n",
    "\n",
    "        #move n_head dimension in front of n_seq dim\n",
    "        query = query.transpose(1,2)\n",
    "        key = key.transpose(1,2)\n",
    "        value = value.transpose(1,2)\n",
    "\n",
    "        #next is dot product attention scores, matmul over the head_dim dimension\n",
    "        # (b,n_head,n_seq,d_head) x (b,n_head,d_head,n_seq)\n",
    "        # output is (b,n_head,n_seq,n_seq')\n",
    "        omega = query @ key.transpose(-2,-1)\n",
    "\n",
    "        mask = self.mask.bool()[:nseq, :nseq]\n",
    "        omega = omega.masked_fill(mask, -torch.inf)\n",
    "        alpha = torch.softmax(omega/self.head_dim**0.5,dim = -1)\n",
    "        alpha = self.dropout(alpha)\n",
    "        # shapes are \n",
    "        # alpha ~ (b,n_head,n_seq,n_seq')\n",
    "        # value ~ (b,n_head,n_seq,d_head) \n",
    "        #context_vec ~ (b,n_head,d_seq,d_head)\n",
    "        context_vec = alpha @ value\n",
    "        #now put n_head next to d_head to roll back up\n",
    "        context_vec = context_vec.transpose(1,2)\n",
    "        context_vec = context_vec.contiguous().view(b,nseq,self.d_out)\n",
    "\n",
    "        #now it is (b,n_seq,d_out), same shape as x except d_in -> d_out\n",
    "        context_vec = self.out_proj(context_vec)\n",
    "        return context_vec\n",
    "\n",
    "\n",
    "\n",
    "batch_size, context_length, d_in = batch.shape\n",
    "d_out = 2\n",
    "torch.manual_seed(123)\n",
    "mha = MultiHeadAttention(d_in, d_out, context_length, 0.0, num_heads=2)\n",
    "\n",
    "context_vecs = mha(batch)\n",
    "\n",
    "print(context_vecs)\n",
    "print(\"context_vecs.shape:\", context_vecs.shape)"
   ]
  },
  {
   "cell_type": "code",
   "execution_count": null,
   "id": "e82b10ff",
   "metadata": {},
   "outputs": [],
   "source": []
  },
  {
   "cell_type": "code",
   "execution_count": null,
   "id": "8c27c37f",
   "metadata": {},
   "outputs": [],
   "source": []
  }
 ],
 "metadata": {
  "kernelspec": {
   "display_name": "llm-env",
   "language": "python",
   "name": "python3"
  },
  "language_info": {
   "codemirror_mode": {
    "name": "ipython",
    "version": 3
   },
   "file_extension": ".py",
   "mimetype": "text/x-python",
   "name": "python",
   "nbconvert_exporter": "python",
   "pygments_lexer": "ipython3",
   "version": "3.11.13"
  }
 },
 "nbformat": 4,
 "nbformat_minor": 5
}
